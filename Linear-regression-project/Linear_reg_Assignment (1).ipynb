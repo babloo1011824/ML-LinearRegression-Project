{
  "nbformat": 4,
  "nbformat_minor": 0,
  "metadata": {
    "kernelspec": {
      "display_name": "Python 3",
      "language": "python",
      "name": "python3"
    },
    "language_info": {
      "codemirror_mode": {
        "name": "ipython",
        "version": 3
      },
      "file_extension": ".py",
      "mimetype": "text/x-python",
      "name": "python",
      "nbconvert_exporter": "python",
      "pygments_lexer": "ipython3",
      "version": "3.8.3"
    },
    "colab": {
      "name": "Linear reg Assignment.ipynb",
      "provenance": [],
      "collapsed_sections": []
    }
  },
  "cells": [
    {
      "cell_type": "code",
      "metadata": {
        "id": "M8kO0v8VE11S"
      },
      "source": [
        "import pandas as pd\n",
        "import numpy as np"
      ],
      "execution_count": null,
      "outputs": []
    },
    {
      "cell_type": "code",
      "metadata": {
        "colab": {
          "base_uri": "https://localhost:8080/"
        },
        "id": "3j5I2pWYE11S",
        "outputId": "57eac613-3083-46f5-9c28-d76515f24516"
      },
      "source": [
        "data_test = np.genfromtxt('test.csv', delimiter = ',')\n",
        "data_test"
      ],
      "execution_count": null,
      "outputs": [
        {
          "output_type": "execute_result",
          "data": {
            "text/plain": [
              "array([[ 0.02354575,  0.05068012, -0.0374625 , ..., -0.03949338,\n",
              "        -0.03075121, -0.01350402],\n",
              "       [-0.07816532, -0.04464164, -0.0730303 , ..., -0.03949338,\n",
              "        -0.01811827, -0.08391984],\n",
              "       [-0.03094232,  0.05068012,  0.00133873, ...,  0.1081111 ,\n",
              "         0.08379677,  0.00306441],\n",
              "       ...,\n",
              "       [ 0.0090156 , -0.04464164, -0.01267283, ...,  0.03430886,\n",
              "         0.02337484, -0.0052198 ],\n",
              "       [ 0.01991321, -0.04464164, -0.03422907, ...,  0.03283281,\n",
              "         0.02472532,  0.06933812],\n",
              "       [ 0.01628068,  0.05068012,  0.00996123, ..., -0.03949338,\n",
              "         0.01703713,  0.00720652]])"
            ]
          },
          "metadata": {
            "tags": []
          },
          "execution_count": 26
        }
      ]
    },
    {
      "cell_type": "code",
      "metadata": {
        "scrolled": true,
        "colab": {
          "base_uri": "https://localhost:8080/"
        },
        "id": "lbR2qzBoE11T",
        "outputId": "81ae8143-8062-4f99-af7f-ebe6dc3b22fd"
      },
      "source": [
        "data_train = np.genfromtxt('train.csv', delimiter = ',')\n",
        "data_train"
      ],
      "execution_count": null,
      "outputs": [
        {
          "output_type": "execute_result",
          "data": {
            "text/plain": [
              "array([[-4.91050164e-02, -4.46416365e-02,  1.60854917e-01, ...,\n",
              "         2.80165065e-02,  1.13486232e-02,  3.46000000e+02],\n",
              "       [-7.09002471e-02,  5.06801187e-02, -8.91974838e-02, ...,\n",
              "        -1.29079423e-02, -5.49250874e-02,  1.04000000e+02],\n",
              "       [ 1.75052192e-03, -4.46416365e-02, -7.08746786e-02, ...,\n",
              "        -2.25121719e-02,  7.20651633e-03,  4.90000000e+01],\n",
              "       ...,\n",
              "       [ 2.35457526e-02, -4.46416365e-02,  7.03187031e-02, ...,\n",
              "        -1.91970476e-02, -9.36191133e-03,  2.88000000e+02],\n",
              "       [ 1.62806757e-02,  5.06801187e-02,  7.24743273e-02, ...,\n",
              "        -2.36445576e-02,  6.10539062e-02,  1.31000000e+02],\n",
              "       [-9.14709343e-03,  5.06801187e-02, -3.09956318e-02, ...,\n",
              "         6.20931562e-03,  2.79170509e-02,  4.20000000e+01]])"
            ]
          },
          "metadata": {
            "tags": []
          },
          "execution_count": 27
        }
      ]
    },
    {
      "cell_type": "code",
      "metadata": {
        "colab": {
          "base_uri": "https://localhost:8080/"
        },
        "id": "20ABwersFAMB",
        "outputId": "79cd7bf1-fa6d-46f8-e274-ddecd462345b"
      },
      "source": [
        "from google.colab import drive\n",
        "drive.mount('/content/drive')"
      ],
      "execution_count": null,
      "outputs": [
        {
          "output_type": "stream",
          "text": [
            "Drive already mounted at /content/drive; to attempt to forcibly remount, call drive.mount(\"/content/drive\", force_remount=True).\n"
          ],
          "name": "stdout"
        }
      ]
    },
    {
      "cell_type": "code",
      "metadata": {
        "id": "fiigyTIGE11U"
      },
      "source": [
        "x_train = data_train[:,:10]\n",
        "y_train = data_train[:,10:]\n",
        "x_test = data_test[:,:10]\n"
      ],
      "execution_count": null,
      "outputs": []
    },
    {
      "cell_type": "code",
      "metadata": {
        "colab": {
          "base_uri": "https://localhost:8080/"
        },
        "id": "czlZy_CFE11U",
        "outputId": "64f5c75d-c612-49d9-e02b-7e06617f8770"
      },
      "source": [
        "print(x_train.shape)\n",
        "print(y_train.shape)\n",
        "print(x_test.shape)"
      ],
      "execution_count": null,
      "outputs": [
        {
          "output_type": "stream",
          "text": [
            "(331, 10)\n",
            "(331, 1)\n",
            "(111, 10)\n"
          ],
          "name": "stdout"
        }
      ]
    },
    {
      "cell_type": "code",
      "metadata": {
        "colab": {
          "base_uri": "https://localhost:8080/",
          "height": 300
        },
        "id": "HiZSDuhYE11V",
        "outputId": "c9e9c67a-f2d9-4010-8f53-dcc06fa391a9"
      },
      "source": [
        "import pandas as pd\n",
        "df = pd.DataFrame(x_train)\n",
        "df.describe()"
      ],
      "execution_count": null,
      "outputs": [
        {
          "output_type": "execute_result",
          "data": {
            "text/html": [
              "<div>\n",
              "<style scoped>\n",
              "    .dataframe tbody tr th:only-of-type {\n",
              "        vertical-align: middle;\n",
              "    }\n",
              "\n",
              "    .dataframe tbody tr th {\n",
              "        vertical-align: top;\n",
              "    }\n",
              "\n",
              "    .dataframe thead th {\n",
              "        text-align: right;\n",
              "    }\n",
              "</style>\n",
              "<table border=\"1\" class=\"dataframe\">\n",
              "  <thead>\n",
              "    <tr style=\"text-align: right;\">\n",
              "      <th></th>\n",
              "      <th>0</th>\n",
              "      <th>1</th>\n",
              "      <th>2</th>\n",
              "      <th>3</th>\n",
              "      <th>4</th>\n",
              "      <th>5</th>\n",
              "      <th>6</th>\n",
              "      <th>7</th>\n",
              "      <th>8</th>\n",
              "      <th>9</th>\n",
              "    </tr>\n",
              "  </thead>\n",
              "  <tbody>\n",
              "    <tr>\n",
              "      <th>count</th>\n",
              "      <td>331.000000</td>\n",
              "      <td>331.000000</td>\n",
              "      <td>331.000000</td>\n",
              "      <td>331.000000</td>\n",
              "      <td>331.000000</td>\n",
              "      <td>331.000000</td>\n",
              "      <td>331.000000</td>\n",
              "      <td>331.000000</td>\n",
              "      <td>331.000000</td>\n",
              "      <td>331.000000</td>\n",
              "    </tr>\n",
              "    <tr>\n",
              "      <th>mean</th>\n",
              "      <td>-0.000214</td>\n",
              "      <td>-0.000293</td>\n",
              "      <td>0.000053</td>\n",
              "      <td>-0.001045</td>\n",
              "      <td>-0.001423</td>\n",
              "      <td>-0.001220</td>\n",
              "      <td>0.000440</td>\n",
              "      <td>-0.001473</td>\n",
              "      <td>-0.001594</td>\n",
              "      <td>0.000099</td>\n",
              "    </tr>\n",
              "    <tr>\n",
              "      <th>std</th>\n",
              "      <td>0.047207</td>\n",
              "      <td>0.047618</td>\n",
              "      <td>0.048627</td>\n",
              "      <td>0.047621</td>\n",
              "      <td>0.047371</td>\n",
              "      <td>0.046936</td>\n",
              "      <td>0.047303</td>\n",
              "      <td>0.046591</td>\n",
              "      <td>0.048088</td>\n",
              "      <td>0.047263</td>\n",
              "    </tr>\n",
              "    <tr>\n",
              "      <th>min</th>\n",
              "      <td>-0.107226</td>\n",
              "      <td>-0.044642</td>\n",
              "      <td>-0.090275</td>\n",
              "      <td>-0.102071</td>\n",
              "      <td>-0.126781</td>\n",
              "      <td>-0.115613</td>\n",
              "      <td>-0.102307</td>\n",
              "      <td>-0.076395</td>\n",
              "      <td>-0.126097</td>\n",
              "      <td>-0.137767</td>\n",
              "    </tr>\n",
              "    <tr>\n",
              "      <th>25%</th>\n",
              "      <td>-0.034575</td>\n",
              "      <td>-0.044642</td>\n",
              "      <td>-0.035307</td>\n",
              "      <td>-0.036656</td>\n",
              "      <td>-0.035968</td>\n",
              "      <td>-0.029967</td>\n",
              "      <td>-0.032356</td>\n",
              "      <td>-0.039493</td>\n",
              "      <td>-0.035817</td>\n",
              "      <td>-0.034215</td>\n",
              "    </tr>\n",
              "    <tr>\n",
              "      <th>50%</th>\n",
              "      <td>0.005383</td>\n",
              "      <td>-0.044642</td>\n",
              "      <td>-0.008362</td>\n",
              "      <td>-0.005671</td>\n",
              "      <td>-0.004321</td>\n",
              "      <td>-0.004445</td>\n",
              "      <td>-0.006584</td>\n",
              "      <td>-0.002592</td>\n",
              "      <td>-0.005145</td>\n",
              "      <td>-0.001078</td>\n",
              "    </tr>\n",
              "    <tr>\n",
              "      <th>75%</th>\n",
              "      <td>0.038076</td>\n",
              "      <td>0.050680</td>\n",
              "      <td>0.030979</td>\n",
              "      <td>0.032775</td>\n",
              "      <td>0.027326</td>\n",
              "      <td>0.028905</td>\n",
              "      <td>0.026550</td>\n",
              "      <td>0.034309</td>\n",
              "      <td>0.032124</td>\n",
              "      <td>0.027917</td>\n",
              "    </tr>\n",
              "    <tr>\n",
              "      <th>max</th>\n",
              "      <td>0.110727</td>\n",
              "      <td>0.050680</td>\n",
              "      <td>0.170555</td>\n",
              "      <td>0.132044</td>\n",
              "      <td>0.153914</td>\n",
              "      <td>0.198788</td>\n",
              "      <td>0.181179</td>\n",
              "      <td>0.185234</td>\n",
              "      <td>0.133599</td>\n",
              "      <td>0.135612</td>\n",
              "    </tr>\n",
              "  </tbody>\n",
              "</table>\n",
              "</div>"
            ],
            "text/plain": [
              "                0           1           2  ...           7           8           9\n",
              "count  331.000000  331.000000  331.000000  ...  331.000000  331.000000  331.000000\n",
              "mean    -0.000214   -0.000293    0.000053  ...   -0.001473   -0.001594    0.000099\n",
              "std      0.047207    0.047618    0.048627  ...    0.046591    0.048088    0.047263\n",
              "min     -0.107226   -0.044642   -0.090275  ...   -0.076395   -0.126097   -0.137767\n",
              "25%     -0.034575   -0.044642   -0.035307  ...   -0.039493   -0.035817   -0.034215\n",
              "50%      0.005383   -0.044642   -0.008362  ...   -0.002592   -0.005145   -0.001078\n",
              "75%      0.038076    0.050680    0.030979  ...    0.034309    0.032124    0.027917\n",
              "max      0.110727    0.050680    0.170555  ...    0.185234    0.133599    0.135612\n",
              "\n",
              "[8 rows x 10 columns]"
            ]
          },
          "metadata": {
            "tags": []
          },
          "execution_count": 31
        }
      ]
    },
    {
      "cell_type": "markdown",
      "metadata": {
        "id": "UkO6hjrgE11V"
      },
      "source": [
        "Training Algorithm"
      ]
    },
    {
      "cell_type": "code",
      "metadata": {
        "id": "8oGvIUeCE11W"
      },
      "source": [
        "from sklearn.linear_model import LinearRegression\n",
        "reg = LinearRegression()"
      ],
      "execution_count": null,
      "outputs": []
    },
    {
      "cell_type": "code",
      "metadata": {
        "colab": {
          "base_uri": "https://localhost:8080/"
        },
        "id": "iuT33H4mE11W",
        "outputId": "49458481-ad63-45c0-f7fb-a38e425db20a"
      },
      "source": [
        "reg.fit(x_train,y_train)"
      ],
      "execution_count": null,
      "outputs": [
        {
          "output_type": "execute_result",
          "data": {
            "text/plain": [
              "LinearRegression(copy_X=True, fit_intercept=True, n_jobs=None, normalize=False)"
            ]
          },
          "metadata": {
            "tags": []
          },
          "execution_count": 33
        }
      ]
    },
    {
      "cell_type": "code",
      "metadata": {
        "colab": {
          "base_uri": "https://localhost:8080/"
        },
        "id": "F4UP6ldbE11X",
        "outputId": "44ceac5c-b35d-41db-caa3-ef835eec7fdf"
      },
      "source": [
        "y_pred = reg.predict(x_test)\n",
        "pred = np.around(y_pred,5)\n",
        "print(pred)"
      ],
      "execution_count": null,
      "outputs": [
        {
          "output_type": "stream",
          "text": [
            "[[105.52975]\n",
            " [105.80392]\n",
            " [178.60857]\n",
            " [ 79.38288]\n",
            " [ 52.95869]\n",
            " [ 98.87264]\n",
            " [150.71755]\n",
            " [ 34.86515]\n",
            " [113.13536]\n",
            " [161.50184]\n",
            " [135.86156]\n",
            " [ 94.71592]\n",
            " [138.48094]\n",
            " [141.37442]\n",
            " [158.76863]\n",
            " [171.65289]\n",
            " [106.44836]\n",
            " [103.9266 ]\n",
            " [ 95.38694]\n",
            " [167.40118]\n",
            " [166.53426]\n",
            " [101.53465]\n",
            " [252.45036]\n",
            " [147.02259]\n",
            " [214.78907]\n",
            " [161.27557]\n",
            " [210.61315]\n",
            " [ 71.78092]\n",
            " [189.65032]\n",
            " [206.61343]\n",
            " [219.98643]\n",
            " [168.80193]\n",
            " [116.84846]\n",
            " [178.744  ]\n",
            " [ 77.03247]\n",
            " [ 59.54633]\n",
            " [111.56738]\n",
            " [156.95187]\n",
            " [154.59591]\n",
            " [198.94457]\n",
            " [115.53884]\n",
            " [153.46699]\n",
            " [ 84.9618 ]\n",
            " [113.70337]\n",
            " [142.14156]\n",
            " [147.3104 ]\n",
            " [ 82.78072]\n",
            " [ 77.89237]\n",
            " [128.99006]\n",
            " [261.58712]\n",
            " [213.31188]\n",
            " [243.98791]\n",
            " [167.68132]\n",
            " [183.69712]\n",
            " [166.85927]\n",
            " [202.1144 ]\n",
            " [220.39236]\n",
            " [172.40288]\n",
            " [176.60898]\n",
            " [109.04657]\n",
            " [276.3779 ]\n",
            " [ 90.99942]\n",
            " [289.37221]\n",
            " [119.56253]\n",
            " [ 75.45688]\n",
            " [180.78599]\n",
            " [146.62093]\n",
            " [156.42382]\n",
            " [ 41.07904]\n",
            " [247.90645]\n",
            " [207.99121]\n",
            " [ 90.09641]\n",
            " [222.2417 ]\n",
            " [189.86378]\n",
            " [182.26954]\n",
            " [164.39881]\n",
            " [190.27067]\n",
            " [105.44868]\n",
            " [199.86136]\n",
            " [245.79639]\n",
            " [123.20281]\n",
            " [119.41032]\n",
            " [145.8662 ]\n",
            " [206.19247]\n",
            " [150.86282]\n",
            " [142.23222]\n",
            " [154.56875]\n",
            " [115.29233]\n",
            " [134.0781 ]\n",
            " [118.42225]\n",
            " [203.57676]\n",
            " [170.66484]\n",
            " [127.4098 ]\n",
            " [ 57.13508]\n",
            " [231.92227]\n",
            " [185.20714]\n",
            " [187.37495]\n",
            " [ 83.55921]\n",
            " [185.42586]\n",
            " [217.34036]\n",
            " [108.86715]\n",
            " [ 80.98715]\n",
            " [127.05524]\n",
            " [242.00739]\n",
            " [155.97234]\n",
            " [125.67575]\n",
            " [246.41236]\n",
            " [234.96393]\n",
            " [191.51298]\n",
            " [168.33254]\n",
            " [163.02965]]\n"
          ],
          "name": "stdout"
        }
      ]
    },
    {
      "cell_type": "code",
      "metadata": {
        "id": "PZgkf_p6E11X"
      },
      "source": [
        "np.savetxt('predicted_data.csv', pred ,fmt = \"%0.5f\",delimiter=',')"
      ],
      "execution_count": null,
      "outputs": []
    },
    {
      "cell_type": "code",
      "metadata": {
        "id": "XF6P1wcfE11X"
      },
      "source": [
        ""
      ],
      "execution_count": null,
      "outputs": []
    }
  ]
}